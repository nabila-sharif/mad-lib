{
  "nbformat": 4,
  "nbformat_minor": 0,
  "metadata": {
    "colab": {
      "provenance": [],
      "authorship_tag": "ABX9TyMqg/z/1R6IcNipKy+G5zqi",
      "include_colab_link": true
    },
    "kernelspec": {
      "name": "python3",
      "display_name": "Python 3"
    },
    "language_info": {
      "name": "python"
    }
  },
  "cells": [
    {
      "cell_type": "markdown",
      "metadata": {
        "id": "view-in-github",
        "colab_type": "text"
      },
      "source": [
        "<a href=\"https://colab.research.google.com/github/nabila-sharif/mad-lib/blob/main/mad_libs_game.ipynb\" target=\"_parent\"><img src=\"https://colab.research.google.com/assets/colab-badge.svg\" alt=\"Open In Colab\"/></a>"
      ]
    },
    {
      "cell_type": "markdown",
      "source": [
        "#**Mad Libs Game In Python**"
      ],
      "metadata": {
        "id": "83iZWZo0e3TL"
      }
    },
    {
      "cell_type": "code",
      "source": [
        "# user se input lijiye\n",
        "name =input(\"Enter the Girl name: \")\n",
        "programming_language = input(\"Enter the programming Language: (e.g: python, next.js, typescript, html):  \")\n",
        "mentor = input(\"Enter the mentor name: \")\n",
        "location = input(\"Enter location eg: governor house \")\n",
        "\n",
        "# story created\n",
        "print(\"\\n Here is my little story based on mad libs game!\")\n",
        "print(f\"One's upon a time, there was a girl named {name}.\")\n",
        "print(f\"{name} was very curious and always want to learn things\")\n",
        "print(f\"One day, he decided to learn {programming_language} language at {location}!\")\n",
        "print(f\"Luckily {name} found a great mentor name as {mentor } who was an expert in {programming_language}.\")\n",
        "print(\"And so, his journy continues ...!\")\n",
        "\n"
      ],
      "metadata": {
        "colab": {
          "base_uri": "https://localhost:8080/"
        },
        "id": "HR-nvXjpfV0x",
        "outputId": "9f8c1108-34ac-4155-e091-a84edf054aff"
      },
      "execution_count": null,
      "outputs": [
        {
          "output_type": "stream",
          "name": "stdout",
          "text": [
            "Enter the Girl name: sara\n",
            "Enter the programming Language: (e.g: python, next.js, typescript, html):  python programming\n",
            "Enter the mentor name: nabila\n",
            "Enter location eg: governor house GIAIC\n",
            "\n",
            " Here is my little story based on mad libs game!\n",
            "One's upon a time, there was a girl named sara.\n",
            "sara was very curious and always want to learn things\n",
            "One day, he decided to learn python programming language at GIAIC!\n",
            "Luckily sara found a great mentor name as nabila who was an expert in python programming.\n",
            "And so, his journy continues ...!\n"
          ]
        }
      ]
    }
  ]
}